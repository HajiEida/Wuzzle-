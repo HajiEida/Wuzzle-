{
 "cells": [
  {
   "cell_type": "code",
   "execution_count": 3,
   "id": "3dbadf46",
   "metadata": {},
   "outputs": [
    {
     "name": "stdout",
     "output_type": "stream",
     "text": [
      "Defaulting to user installation because normal site-packages is not writeable\n",
      "Collecting mysql-connector-python\n",
      "  Downloading mysql_connector_python-9.3.0-cp312-cp312-win_amd64.whl.metadata (7.7 kB)\n",
      "Downloading mysql_connector_python-9.3.0-cp312-cp312-win_amd64.whl (16.4 MB)\n",
      "   ---------------------------------------- 0.0/16.4 MB ? eta -:--:--\n",
      "   ---------------------------------------- 0.0/16.4 MB ? eta -:--:--\n",
      "    --------------------------------------- 0.3/16.4 MB ? eta -:--:--\n",
      "   - -------------------------------------- 0.8/16.4 MB 1.7 MB/s eta 0:00:10\n",
      "   - -------------------------------------- 0.8/16.4 MB 1.7 MB/s eta 0:00:10\n",
      "   -- ------------------------------------- 1.0/16.4 MB 1.3 MB/s eta 0:00:12\n",
      "   --- ------------------------------------ 1.3/16.4 MB 1.3 MB/s eta 0:00:12\n",
      "   ---- ----------------------------------- 1.8/16.4 MB 1.4 MB/s eta 0:00:11\n",
      "   ----- ---------------------------------- 2.4/16.4 MB 1.6 MB/s eta 0:00:09\n",
      "   ------- -------------------------------- 2.9/16.4 MB 1.7 MB/s eta 0:00:09\n",
      "   -------- ------------------------------- 3.4/16.4 MB 1.8 MB/s eta 0:00:08\n",
      "   --------- ------------------------------ 3.9/16.4 MB 1.8 MB/s eta 0:00:07\n",
      "   ---------- ----------------------------- 4.2/16.4 MB 1.8 MB/s eta 0:00:07\n",
      "   ----------- ---------------------------- 4.7/16.4 MB 1.9 MB/s eta 0:00:07\n",
      "   ------------ --------------------------- 5.2/16.4 MB 1.9 MB/s eta 0:00:06\n",
      "   -------------- ------------------------- 5.8/16.4 MB 2.0 MB/s eta 0:00:06\n",
      "   --------------- ------------------------ 6.3/16.4 MB 2.0 MB/s eta 0:00:06\n",
      "   ---------------- ----------------------- 6.6/16.4 MB 2.0 MB/s eta 0:00:05\n",
      "   ---------------- ----------------------- 6.6/16.4 MB 2.0 MB/s eta 0:00:05\n",
      "   ----------------- ---------------------- 7.1/16.4 MB 1.8 MB/s eta 0:00:06\n",
      "   ------------------ --------------------- 7.6/16.4 MB 1.9 MB/s eta 0:00:05\n",
      "   ------------------- -------------------- 8.1/16.4 MB 1.9 MB/s eta 0:00:05\n",
      "   --------------------- ------------------ 8.7/16.4 MB 1.9 MB/s eta 0:00:04\n",
      "   ---------------------- ----------------- 9.2/16.4 MB 2.0 MB/s eta 0:00:04\n",
      "   ----------------------- ---------------- 9.7/16.4 MB 2.0 MB/s eta 0:00:04\n",
      "   ------------------------ --------------- 10.2/16.4 MB 2.0 MB/s eta 0:00:04\n",
      "   ------------------------- -------------- 10.5/16.4 MB 2.0 MB/s eta 0:00:03\n",
      "   -------------------------- ------------- 11.0/16.4 MB 2.0 MB/s eta 0:00:03\n",
      "   ---------------------------- ----------- 11.5/16.4 MB 2.0 MB/s eta 0:00:03\n",
      "   ---------------------------- ----------- 11.8/16.4 MB 2.0 MB/s eta 0:00:03\n",
      "   ----------------------------- ---------- 12.1/16.4 MB 2.0 MB/s eta 0:00:03\n",
      "   ------------------------------ --------- 12.6/16.4 MB 2.0 MB/s eta 0:00:02\n",
      "   -------------------------------- ------- 13.1/16.4 MB 2.0 MB/s eta 0:00:02\n",
      "   --------------------------------- ------ 13.9/16.4 MB 2.0 MB/s eta 0:00:02\n",
      "   ----------------------------------- ---- 14.4/16.4 MB 2.0 MB/s eta 0:00:01\n",
      "   ------------------------------------ --- 14.9/16.4 MB 2.1 MB/s eta 0:00:01\n",
      "   ------------------------------------- -- 15.5/16.4 MB 2.1 MB/s eta 0:00:01\n",
      "   ---------------------------------------  16.0/16.4 MB 2.1 MB/s eta 0:00:01\n",
      "   ---------------------------------------- 16.4/16.4 MB 2.1 MB/s eta 0:00:00\n",
      "Installing collected packages: mysql-connector-python\n",
      "Successfully installed mysql-connector-python-9.3.0\n",
      "Note: you may need to restart the kernel to use updated packages.\n"
     ]
    },
    {
     "name": "stderr",
     "output_type": "stream",
     "text": [
      "\n",
      "[notice] A new release of pip is available: 24.3.1 -> 25.1.1\n",
      "[notice] To update, run: C:\\Users\\dsdha\\AppData\\Local\\Microsoft\\WindowsApps\\PythonSoftwareFoundation.Python.3.12_qbz5n2kfra8p0\\python.exe -m pip install --upgrade pip\n"
     ]
    }
   ],
   "source": [
    "pip install mysql-connector-python\n"
   ]
  },
  {
   "cell_type": "code",
   "execution_count": 4,
   "id": "2e8aa482",
   "metadata": {},
   "outputs": [
    {
     "name": "stdout",
     "output_type": "stream",
     "text": [
      "Defaulting to user installation because normal site-packages is not writeable\n",
      "Collecting pymysql\n",
      "  Downloading PyMySQL-1.1.1-py3-none-any.whl.metadata (4.4 kB)\n",
      "Downloading PyMySQL-1.1.1-py3-none-any.whl (44 kB)\n",
      "Installing collected packages: pymysql\n",
      "Successfully installed pymysql-1.1.1\n",
      "Note: you may need to restart the kernel to use updated packages.\n"
     ]
    },
    {
     "name": "stderr",
     "output_type": "stream",
     "text": [
      "\n",
      "[notice] A new release of pip is available: 24.3.1 -> 25.1.1\n",
      "[notice] To update, run: C:\\Users\\dsdha\\AppData\\Local\\Microsoft\\WindowsApps\\PythonSoftwareFoundation.Python.3.12_qbz5n2kfra8p0\\python.exe -m pip install --upgrade pip\n"
     ]
    }
   ],
   "source": [
    "pip install pymysql\n"
   ]
  },
  {
   "cell_type": "code",
   "execution_count": 5,
   "id": "8104addb",
   "metadata": {},
   "outputs": [
    {
     "name": "stdout",
     "output_type": "stream",
     "text": [
      "Defaulting to user installation because normal site-packages is not writeableNote: you may need to restart the kernel to use updated packages.\n",
      "\n",
      "Requirement already satisfied: mysqlclient in c:\\users\\dsdha\\appdata\\local\\packages\\pythonsoftwarefoundation.python.3.12_qbz5n2kfra8p0\\localcache\\local-packages\\python312\\site-packages (2.2.7)\n"
     ]
    },
    {
     "name": "stderr",
     "output_type": "stream",
     "text": [
      "\n",
      "[notice] A new release of pip is available: 24.3.1 -> 25.1.1\n",
      "[notice] To update, run: C:\\Users\\dsdha\\AppData\\Local\\Microsoft\\WindowsApps\\PythonSoftwareFoundation.Python.3.12_qbz5n2kfra8p0\\python.exe -m pip install --upgrade pip\n"
     ]
    }
   ],
   "source": [
    "pip install mysqlclient\n"
   ]
  }
 ],
 "metadata": {
  "kernelspec": {
   "display_name": "Python 3",
   "language": "python",
   "name": "python3"
  },
  "language_info": {
   "codemirror_mode": {
    "name": "ipython",
    "version": 3
   },
   "file_extension": ".py",
   "mimetype": "text/x-python",
   "name": "python",
   "nbconvert_exporter": "python",
   "pygments_lexer": "ipython3",
   "version": "3.12.10"
  }
 },
 "nbformat": 4,
 "nbformat_minor": 5
}
